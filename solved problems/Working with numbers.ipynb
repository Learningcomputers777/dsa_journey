{
 "cells": [
  {
   "cell_type": "markdown",
   "id": "1dd450ca",
   "metadata": {},
   "source": [
    "#HCF\n",
    "a,b = 2,10\n",
    "flag = 0\n",
    "for i in range(1,101):\n",
    "    if a%i==0 and b%i==0:\n",
    "        print(\"HCF :\",i)\n",
    "    elif i>i-1:\n",
    "        print(\"No HCF\")"
   ]
  },
  {
   "cell_type": "markdown",
   "id": "feac1262",
   "metadata": {},
   "source": [
    "HCF = 1\n",
    "num1,num2 = 36,60\n",
    "for i in [1,min(num1,num2)]: #have to give range there\n",
    "    if num1%i==0 and num2%i==0:\n",
    "        HCF = i\n",
    "print(\"The HCF is \",HCF)"
   ]
  },
  {
   "cell_type": "code",
   "execution_count": 3,
   "id": "f09b8707",
   "metadata": {},
   "outputs": [
    {
     "name": "stdout",
     "output_type": "stream",
     "text": [
      "Hcf of 36 and 60 is 12\n",
      "36\n"
     ]
    }
   ],
   "source": [
    "#HCF\n",
    "num1 = 36\n",
    "num2 = 60\n",
    "hcf = 1\n",
    "\n",
    "for i in range(1, min(num1, num2)):\n",
    "    if num1 % i == 0 and num2 % i == 0:\n",
    "        hcf = i\n",
    "print(\"Hcf of\", num1, \"and\", num2, \"is\", hcf)\n",
    "print(min(num1,num2))"
   ]
  },
  {
   "cell_type": "markdown",
   "id": "782f7ca6",
   "metadata": {},
   "source": [
    "#LCM\n",
    "num1 = 12\n",
    "num2 = 14\n",
    "lcm = 1 \n",
    "for i in range(1,max(num1,num2),1+(num1*num2)):\n",
    "    if i%num1==0 and i%num2==0:\n",
    "        lcm = i\n",
    "        break\n",
    "print(\"lcm of\",num1,\"and\",num2,\"is \",lcm)"
   ]
  },
  {
   "cell_type": "code",
   "execution_count": 8,
   "id": "211e1864",
   "metadata": {},
   "outputs": [
    {
     "name": "stdout",
     "output_type": "stream",
     "text": [
      "LCM of 12 and 14 is 84\n"
     ]
    }
   ],
   "source": [
    "#lcm\n",
    "num1 = 12\n",
    "num2 = 14\n",
    "for i in range(max(num1, num2), 1 + (num1 * num2)):\n",
    "    if i % num1 == i % num2 == 0:\n",
    "        lcm = i\n",
    "        break\n",
    "print(\"LCM of\", num1, \"and\", num2, \"is\", lcm)"
   ]
  },
  {
   "cell_type": "markdown",
   "id": "f29a1787",
   "metadata": {},
   "source": [
    "num1 = 2\n",
    "num2 = 3\n",
    "lcm = 1\n",
    "for i in range(1,max(num1,num2),1+(num1*num2)):\n",
    "    if i%num1=="
   ]
  },
  {
   "cell_type": "code",
   "execution_count": 12,
   "id": "4ce6dcd8",
   "metadata": {},
   "outputs": [
    {
     "name": "stdout",
     "output_type": "stream",
     "text": [
      "1\n",
      "2\n",
      "3\n",
      "4\n",
      "6\n",
      "12\n",
      "gcd of 10 and 20 is 12\n"
     ]
    }
   ],
   "source": [
    "#GCD\n",
    "num1 = 36\n",
    "num2 = 60\n",
    "gcd = 1\n",
    "for i in range(1,min(num1,num2)):\n",
    "    if num1%i==0 and num2%i==0:\n",
    "        print(i)\n",
    "        gcd = i\n",
    "print(\"gcd of 10 and 20 is\",gcd)"
   ]
  },
  {
   "cell_type": "markdown",
   "id": "422eaf31",
   "metadata": {},
   "source": [
    "num = 10\n",
    "binary_val = num\n",
    "decimal_val = 0\n",
    "base = 1\n",
    "while num>0:\n",
    "    rem = num % 10\n",
    "    print(rem)\n",
    "    decimal_val = decimal_val + rem*base\n",
    "    print(decimal_val)\n",
    "    num = num // 10\n",
    "    print(num)\n",
    "    base = base * 2\n",
    "    print(base)\n",
    "    \n",
    "print(\"Binary Number is {}\\nDecimal Number is {}\".format(binary_val, decimal_val))"
   ]
  },
  {
   "cell_type": "code",
   "execution_count": 28,
   "id": "3c56061a",
   "metadata": {},
   "outputs": [
    {
     "name": "stdout",
     "output_type": "stream",
     "text": [
      "Binary Number is 10\n",
      "Decimal Number is 2\n"
     ]
    }
   ],
   "source": [
    "#binary to decimal\n",
    "num = 10\n",
    "binary_val = num\n",
    "decimal_val = 0\n",
    "base = 1\n",
    "\n",
    "while num > 0:\n",
    "    rem = num % 10\n",
    "    decimal_val = decimal_val+ rem * base\n",
    "    num = num // 10\n",
    "    base = base * 2\n",
    "\n",
    "print(\"Binary Number is {}\\nDecimal Number is {}\".format(binary_val, decimal_val))"
   ]
  },
  {
   "cell_type": "code",
   "execution_count": 32,
   "id": "afae7f26",
   "metadata": {},
   "outputs": [
    {
     "name": "stdout",
     "output_type": "stream",
     "text": [
      "2\n",
      "10\n",
      "330\n",
      "Octal number512 to decimal number330 is \n"
     ]
    }
   ],
   "source": [
    "#octal to decimal\n",
    "num = 512\n",
    "octal_val = num\n",
    "decimal_val,base = 0,1\n",
    "while num>0:\n",
    "    rem = num%10\n",
    "    decimal_val = decimal_val +rem * base\n",
    "    print(decimal_val)\n",
    "    num = num//10\n",
    "    base = base *8\n",
    "print(\"Octal number{} to decimal number{} is \".format(octal_val,decimal_val))"
   ]
  },
  {
   "cell_type": "markdown",
   "id": "2c54796d",
   "metadata": {},
   "source": [
    "Initialize a empty array as binaryArray\n",
    "while input number is greater then 0\n",
    "Append 1 if unit digit of num is odd else append 0\n",
    "Assign half the value of num to num\n",
    "Print all the values of  binaryArray"
   ]
  },
  {
   "cell_type": "markdown",
   "id": "73c6fd8e",
   "metadata": {},
   "source": [
    "def convertBinary(num):\n",
    "    binaryArray = []\n",
    "    while num>0:\n",
    "        binaryArray.append(num%2)\n",
    "        num = num//2\n",
    "    for j in binaryArray:\n",
    "        print(j, end=\"\")\n",
    "\n",
    "\n",
    "decimal_num = 21\n",
    "convertBinary(decimal_num)"
   ]
  },
  {
   "cell_type": "markdown",
   "id": "9aedfb0e",
   "metadata": {},
   "source": [
    "#decimal to binary\n",
    "def convertbinary(num):\n",
    "    binaryarray = []\n",
    "    while num>0:\n",
    "        binaryarray.append(num%2)\n",
    "        num = num//2\n",
    "    for j in binaryarray:\n",
    "        print(j,end=\"\")\n",
    "convertbinary(21)"
   ]
  },
  {
   "cell_type": "code",
   "execution_count": 42,
   "id": "59dbb20c",
   "metadata": {},
   "outputs": [
    {
     "name": "stdout",
     "output_type": "stream",
     "text": [
      "[1]\n",
      "10\n",
      "[1, 0]\n",
      "5\n",
      "[1, 0, 1]\n",
      "2\n",
      "[1, 0, 1, 0]\n",
      "1\n",
      "[1, 0, 1, 0, 1]\n",
      "0\n",
      "10101"
     ]
    }
   ],
   "source": [
    "#decimal to binary\n",
    "decimal = 21\n",
    "binary = []\n",
    "while decimal>0:\n",
    "    binary.append(decimal%2)\n",
    "    print(binary)\n",
    "    decimal = decimal//2\n",
    "    print(decimal)\n",
    "for j in binary:\n",
    "        print(j,end=\"\")"
   ]
  },
  {
   "cell_type": "code",
   "execution_count": 39,
   "id": "8125f233",
   "metadata": {},
   "outputs": [
    {
     "name": "stdout",
     "output_type": "stream",
     "text": [
      "224"
     ]
    }
   ],
   "source": [
    "#decimal to octal\n",
    "decimal = 148\n",
    "octal = []\n",
    "while decimal>0:\n",
    "    \n",
    "    octal.append(decimal%8)\n",
    "    decimal = decimal//8\n",
    "for i in reversed(octal):\n",
    "    print(i, end=\"\")"
   ]
  },
  {
   "cell_type": "markdown",
   "id": "7a2bec91",
   "metadata": {},
   "source": [
    "decimal = 148\n",
    "octal = []\n",
    "while decimal > 0:\n",
    "    r = decimal % 8\n",
    "    octal.append(r)\n",
    "    decimal = decimal // 8\n",
    "for i in reversed(octal):\n",
    "    print(i, end=\"\")"
   ]
  },
  {
   "cell_type": "code",
   "execution_count": 47,
   "id": "28bd55c8",
   "metadata": {},
   "outputs": [
    {
     "name": "stdout",
     "output_type": "stream",
     "text": [
      "Quadrant 3\n"
     ]
    }
   ],
   "source": [
    "x,y = -2,-4\n",
    "if x>0 and y>0:\n",
    "    print(\"Quadrant 1\")\n",
    "elif x>0 and y<0:\n",
    "    print(\"Quadrant 2\")\n",
    "elif x<0 and y<0:\n",
    "    print(\"Quadrant 3\")\n",
    "elif x<0 and y>0:\n",
    "    print(\"Quadrant 4\")"
   ]
  },
  {
   "cell_type": "markdown",
   "id": "a5f09f15",
   "metadata": {},
   "source": [
    "x,y = 2,4\n",
    "if x>0 and y>0:\n",
    "    print(\"Quadrant 1\")\n",
    "if x>0 and y<0:\n",
    "    print(\"Quadrant 2\")\n",
    "if x<0 and y<0:\n",
    "    print(\"Quadrant 3\")\n",
    "if x<0 and y>0:\n",
    "    print(\"Quadrant 4\")"
   ]
  },
  {
   "cell_type": "code",
   "execution_count": 55,
   "id": "861d25dc",
   "metadata": {},
   "outputs": [
    {
     "name": "stdout",
     "output_type": "stream",
     "text": [
      "<class 'int'>\n",
      "4\n",
      "3628800\n"
     ]
    }
   ],
   "source": [
    "#permutation\n",
    "x,y = 10,6\n",
    "print(type(x))\n",
    "fact = 1\n",
    "down = x - y\n",
    "print(down)\n",
    "for i in range(1,x+1):\n",
    "    fact*=i\n",
    "print(fact)\n",
    "#fact = fact * fact(i)"
   ]
  },
  {
   "cell_type": "markdown",
   "id": "39c58ab4",
   "metadata": {},
   "source": [
    "x, y = 10, 6\n",
    "print(type(x))  # This will print <class 'int'>\n",
    "\n",
    "fact = 1\n",
    "down = x - y\n",
    "print(down)  # This will print the value of down, which is 4\n",
    "\n",
    "# Calculate factorial of x\n",
    "for i in range(1, x + 1):\n",
    "    fact *= i\n",
    "\n",
    "print(f\"Factorial of {x} is {fact}\")\n",
    "\n",
    "# If you want to print the type and value of up (down + x) as well:\n",
    "up = down + x\n",
    "print(type(up))  # This will print <class 'int'>\n",
    "print(up)  # This will print the value of up, which is 14\n"
   ]
  },
  {
   "cell_type": "code",
   "execution_count": 59,
   "id": "cc7ee337",
   "metadata": {},
   "outputs": [
    {
     "name": "stdout",
     "output_type": "stream",
     "text": [
      "28.0\n"
     ]
    }
   ],
   "source": [
    "# no of hand shakes\n",
    "n = 8\n",
    "total = int((n-1)*n)/2\n",
    "print(total)"
   ]
  },
  {
   "cell_type": "code",
   "execution_count": 73,
   "id": "216c9df5",
   "metadata": {},
   "outputs": [
    {
     "name": "stdout",
     "output_type": "stream",
     "text": [
      "42\n",
      "240\n",
      "30\n",
      "9.4\n",
      "282\n",
      "30\n",
      "9.4\n"
     ]
    }
   ],
   "source": [
    "#addition of two fractional number\n",
    "\n",
    "a,b = 14,10\n",
    "c,d = 24,3\n",
    "print(a*d)\n",
    "print(b*c)\n",
    "print(b*d)\n",
    "print(282/30)\n",
    "e = a*d+b*c\n",
    "print(e)\n",
    "f = b *d\n",
    "print(f)\n",
    "g = e/f\n",
    "print(g)"
   ]
  },
  {
   "cell_type": "code",
   "execution_count": 64,
   "id": "b13c1ef6",
   "metadata": {},
   "outputs": [
    {
     "name": "stdout",
     "output_type": "stream",
     "text": [
      "28.274333882308138\n"
     ]
    }
   ],
   "source": [
    "# Area of circle\n",
    "from math import pi\n",
    "r = 3\n",
    "area = pi*r*r\n",
    "print(area)"
   ]
  },
  {
   "cell_type": "markdown",
   "id": "a37d6e39",
   "metadata": {},
   "source": [
    "num  = 100\n",
    "primes = []\n",
    "if num<2:\n",
    "    flag = 1\n",
    "    break\n",
    "for i in range(2,num+1):\n",
    "    if num%i==0:\n",
    "        flag == 0\n",
    "        break\n",
    "    if flag==0:\n",
    "        primes.append(i)\n",
    "print(primes)"
   ]
  },
  {
   "cell_type": "code",
   "execution_count": 84,
   "id": "fc82b4c1",
   "metadata": {},
   "outputs": [
    {
     "name": "stdout",
     "output_type": "stream",
     "text": [
      "[2, 3, 5, 7, 11, 13, 17, 19, 23, 29, 31, 37, 41, 43, 47, 53, 59, 61, 67, 71, 73, 79, 83, 89, 97]\n"
     ]
    }
   ],
   "source": [
    "low,high = 2,100\n",
    "primes = []\n",
    "for i in range(low,high+1):\n",
    "    flag = 0\n",
    "    if i<2:\n",
    "        continue\n",
    "    if i ==2:\n",
    "        primes.append(2)\n",
    "        continue\n",
    "    for x in range(2,i):\n",
    "        if i%x==0:\n",
    "            flag=1\n",
    "            break\n",
    "    if flag==0:\n",
    "        primes.append(i)\n",
    "print(primes)"
   ]
  },
  {
   "cell_type": "code",
   "execution_count": 87,
   "id": "7aef2cd8",
   "metadata": {},
   "outputs": [
    {
     "name": "stdout",
     "output_type": "stream",
     "text": [
      "[0]\n",
      "[0, 1]\n",
      "2\n"
     ]
    }
   ],
   "source": [
    "#count number of digits\n",
    "num = 10\n",
    "number = []\n",
    "n = num\n",
    "while n>0:\n",
    "\n",
    "        digit = n%10\n",
    "        number.append(digit)\n",
    "        print(number)\n",
    "        n = n//10\n",
    "print(len(number))\n",
    "    "
   ]
  },
  {
   "cell_type": "markdown",
   "id": "5320150d",
   "metadata": {},
   "source": [
    "# Initialize the number\n",
    "num = 10\n",
    "\n",
    "# Initialize an empty list to store digits\n",
    "number = []\n",
    "\n",
    "# Make a copy of num for processing\n",
    "n = num\n",
    "\n",
    "# Loop to extract each digit\n",
    "while n > 0:\n",
    "    digit = n % 10  # Extract the last digit\n",
    "    number.append(digit)  # Append the digit to the list\n",
    "    print(number)  # Print the current list of digits\n",
    "    n = n // 10  # Remove the last digit from n\n",
    "\n",
    "# Print the number of digits\n",
    "print('Number of digits in', num, 'is', len(number))\n"
   ]
  },
  {
   "cell_type": "code",
   "execution_count": 88,
   "id": "d6a7910c",
   "metadata": {},
   "outputs": [
    {
     "name": "stdout",
     "output_type": "stream",
     "text": [
      "Enter number : 21\n",
      "Converted number is: 0\n"
     ]
    }
   ],
   "source": [
    "num = int(input(\"Enter number : \"))\n",
    "num2 = 0\n",
    "\n",
    "if num == 0:\n",
    "    num2 = 1\n",
    "\n",
    "while num > 0:\n",
    "    rem = num % 10\n",
    "    if rem == 0:\n",
    "        rem = 1\n",
    "    num = num//10\n",
    "    num2 = num2 * 10 + rem\n",
    "print(\"Converted number is:\", num)"
   ]
  },
  {
   "cell_type": "code",
   "execution_count": null,
   "id": "bb81172c",
   "metadata": {},
   "outputs": [],
   "source": []
  }
 ],
 "metadata": {
  "kernelspec": {
   "display_name": "Python 3 (ipykernel)",
   "language": "python",
   "name": "python3"
  },
  "language_info": {
   "codemirror_mode": {
    "name": "ipython",
    "version": 3
   },
   "file_extension": ".py",
   "mimetype": "text/x-python",
   "name": "python",
   "nbconvert_exporter": "python",
   "pygments_lexer": "ipython3",
   "version": "3.11.5"
  }
 },
 "nbformat": 4,
 "nbformat_minor": 5
}
