{
 "cells": [
  {
   "cell_type": "code",
   "execution_count": 11,
   "id": "b3b34acc",
   "metadata": {},
   "outputs": [
    {
     "name": "stdout",
     "output_type": "stream",
     "text": [
      "Enter how many numbers5\n",
      "Enter the numbers:10\n",
      "Enter the numbers:20\n",
      "Enter the numbers:15\n",
      "Enter the numbers:15\n",
      "Enter the numbers:70\n",
      "130\n"
     ]
    }
   ],
   "source": [
    "num = int(input(\"Enter how many numbers\"))\n",
    "sum = 0\n",
    "for i in range(num):# if i give num+1 it is not working correct as it is asking one more extra.\n",
    "    given = (int(input(\"Enter the numbers:\")))\n",
    "    sum+= given\n",
    "print(sum)\n",
    "    "
   ]
  },
  {
   "cell_type": "markdown",
   "id": "fa976ab2",
   "metadata": {},
   "source": []
  }
 ],
 "metadata": {
  "kernelspec": {
   "display_name": "Python 3 (ipykernel)",
   "language": "python",
   "name": "python3"
  },
  "language_info": {
   "codemirror_mode": {
    "name": "ipython",
    "version": 3
   },
   "file_extension": ".py",
   "mimetype": "text/x-python",
   "name": "python",
   "nbconvert_exporter": "python",
   "pygments_lexer": "ipython3",
   "version": "3.11.5"
  }
 },
 "nbformat": 4,
 "nbformat_minor": 5
}
