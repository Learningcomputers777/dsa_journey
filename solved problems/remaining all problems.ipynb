{
 "cells": [
  {
   "cell_type": "code",
   "execution_count": null,
   "id": "e014a888",
   "metadata": {},
   "outputs": [],
   "source": [
    "#leap year or not \n",
    "# formula \n",
    "#(Y % 4 == 0) AND (Y % 100 != 0)\n",
    "#(Y % 400 == 0)\n",
    "y = int(input(\"Enter year\"))\n",
    "if (y%4==0) and (y%100!=0):\n",
    "    print(\"Leap year\")\n",
    "else:\n",
    "    print(\"not a leap year\")"
   ]
  },
  {
   "cell_type": "markdown",
   "id": "af128745",
   "metadata": {},
   "source": [
    "#Prime number\n",
    "#For a given integer input we check,\n",
    "\n",
    "#If the number is greater than 2.\n",
    "#If the number has any factors in the range [2,number].\n",
    "#If any off the above conditions are satisfied, the number isn’t a Prime.\n",
    "\n",
    "num = int(input(\"enter a number\"))\n",
    "flag=0\n",
    "for i in range(2,num):\n",
    "    if i%2==0:\n",
    "        flag==1\n",
    "        break\n",
    "if flag==1:\n",
    "    print(\"Not prime\")\n",
    "\n",
    "else:\n",
    "    print(\"Prime\")"
   ]
  },
  {
   "cell_type": "markdown",
   "id": "cecaea87",
   "metadata": {},
   "source": [
    "num = int(input(\"Enter a number\"))\n",
    "flag = 0\n",
    "\n",
    "for i in range(0,num):\n",
    "    if i<0:\n",
    "        \n",
    "        flag=1\n",
    "        break\n",
    "    elif i%2==0:\n",
    "        flag==1\n",
    "        break\n",
    "if flag==1:\n",
    "    print(\"not prime\")\n",
    "else:\n",
    "    print(\"Prime\")"
   ]
  },
  {
   "cell_type": "code",
   "execution_count": 1,
   "id": "d09e0dc6",
   "metadata": {},
   "outputs": [
    {
     "name": "stdout",
     "output_type": "stream",
     "text": [
      "Not Prime\n"
     ]
    }
   ],
   "source": [
    "# prime or not\n",
    "num = 15\n",
    "flag = 0\n",
    "if num<2:\n",
    "  flag = 1\n",
    "else:\n",
    "  for i in range(2,num):\n",
    "    if num%i==0:\n",
    "      flag = 1\n",
    "      break\n",
    "\n",
    "if flag == 1:\n",
    "  print('Not Prime')\n",
    "else:\n",
    "  print(\"Prime\")"
   ]
  },
  {
   "cell_type": "code",
   "execution_count": 4,
   "id": "10ea31cc",
   "metadata": {},
   "outputs": [
    {
     "name": "stdout",
     "output_type": "stream",
     "text": [
      "[2, 3, 5, 7]\n"
     ]
    }
   ],
   "source": [
    "#Prime number within a given range\n",
    "low,high = 2,10\n",
    "primes = []\n",
    "for i in range(low,high+1):\n",
    "    flag = 0\n",
    "    if i<2:\n",
    "        continue\n",
    "    if i ==2:\n",
    "        primes.append(2)\n",
    "        continue\n",
    "    for x in range(2,i):\n",
    "        if i%x==0:\n",
    "            flag=1\n",
    "            break\n",
    "    if flag==0:\n",
    "        primes.append(i)\n",
    "print(primes)"
   ]
  },
  {
   "cell_type": "code",
   "execution_count": 6,
   "id": "b4feeacf",
   "metadata": {},
   "outputs": [
    {
     "name": "stdout",
     "output_type": "stream",
     "text": [
      "[2, 3, 5, 7]\n"
     ]
    }
   ],
   "source": [
    "low, high = 2, 10\n",
    "primes = []\n",
    "\n",
    "for i in range(low, high + 1):\n",
    "    flag = 0\n",
    "\n",
    "    if i < 2:\n",
    "        continue\n",
    "    if i == 2:\n",
    "        primes.append(2)\n",
    "        continue\n",
    "\n",
    "    for x in range(2, i):\n",
    "        if i % x == 0:\n",
    "            flag = 1\n",
    "            break\n",
    "\n",
    "    if flag == 0:\n",
    "        primes.append(i)\n",
    "        \n",
    "print(primes)"
   ]
  },
  {
   "cell_type": "code",
   "execution_count": 10,
   "id": "5d451190",
   "metadata": {},
   "outputs": [
    {
     "name": "stdout",
     "output_type": "stream",
     "text": [
      "Enter a number12345\n",
      "15\n"
     ]
    }
   ],
   "source": [
    "#sum of digits of a number\n",
    "a = input(\"Enter a number\")\n",
    "sum = 0\n",
    "for i in a:\n",
    "    sum = sum + int(i)\n",
    "    \n",
    "print(sum)"
   ]
  },
  {
   "cell_type": "code",
   "execution_count": 17,
   "id": "2d5a6d4f",
   "metadata": {},
   "outputs": [
    {
     "name": "stdout",
     "output_type": "stream",
     "text": [
      "enter a number12\n",
      "21\n"
     ]
    }
   ],
   "source": [
    "#reverse of a number\n",
    "#s[::-1]\n",
    "a = input(\"enter a number\")\n",
    "b = int(a[::-1])\n",
    "print(b)"
   ]
  },
  {
   "cell_type": "code",
   "execution_count": 27,
   "id": "86643459",
   "metadata": {},
   "outputs": [
    {
     "name": "stdout",
     "output_type": "stream",
     "text": [
      "enter a number141\n",
      "palindrome\n",
      "141\n",
      "<class 'str'>\n",
      "<class 'str'>\n"
     ]
    }
   ],
   "source": [
    "#palindrome of a number\n",
    "a = input(\"enter a number\")\n",
    "b = str(a[::-1])\n",
    "if a == b:\n",
    "    print(\"palindrome\")\n",
    "else:\n",
    "    print(\"Not a palindrome\")\n",
    "print(b)\n",
    "print(type(b))\n",
    "print(type(a))"
   ]
  },
  {
   "cell_type": "markdown",
   "id": "84850446",
   "metadata": {},
   "source": [
    "#armstrong number\n",
    "a = int(input(\"Enter a number\"))\n",
    "sum = 0\n",
    "print(type(sum))\n",
    "c = int(len(str(a)))\n",
    "print(type(c))\n",
    "for i in range(a):\n",
    "    sum += pow(int(i),int (c))\n",
    "\n",
    "    print(sum)\n",
    "    if sum == a:\n",
    "        print(\"Armstrong number\")\n",
    "    else:\n",
    "        print(\"Not an armstron number\")\n"
   ]
  },
  {
   "cell_type": "code",
   "execution_count": 12,
   "id": "ffca9e1a",
   "metadata": {},
   "outputs": [
    {
     "name": "stdout",
     "output_type": "stream",
     "text": [
      "<class 'int'>\n",
      "Armstrong\n"
     ]
    }
   ],
   "source": [
    "#armstrong number\n",
    "number = 371\n",
    "num = number\n",
    "digit, sum = 0, 0\n",
    "length = len(str(num))\n",
    "for i in range(length):\n",
    "  digit = int(num%10)\n",
    "  num = num/10\n",
    "  sum += pow(digit,length)\n",
    "if sum==number:\n",
    "  print(\"Armstrong\")\n",
    "else:\n",
    "  print(\"Not Armstrong\")"
   ]
  },
  {
   "cell_type": "code",
   "execution_count": 21,
   "id": "37d7afe5",
   "metadata": {},
   "outputs": [
    {
     "name": "stdout",
     "output_type": "stream",
     "text": [
      "153, 370, 371, 407, 1634, 8208, 9474, "
     ]
    }
   ],
   "source": [
    "#armstrong for a given range\n",
    "low, high = 10, 10000\n",
    "\n",
    "for n in range(low, high + 1):\n",
    "\n",
    "    # order of number\n",
    "    order = len(str(n))\n",
    "\n",
    "    # initialize sum\n",
    "    sum = 0\n",
    "\n",
    "    temp = n\n",
    "    while temp > 0:\n",
    "        digit = temp % 10\n",
    "        sum += digit ** order\n",
    "        temp //= 10\n",
    "\n",
    "    if n == sum:\n",
    "        print(n, end=\", \")"
   ]
  },
  {
   "cell_type": "markdown",
   "id": "0b72295d",
   "metadata": {},
   "source": [
    "low,high = 10,10000\n",
    "for n in range(low,high+1):\n",
    "    order = len(str(n))\n",
    "    sum = 0\n",
    "    temp = n\n",
    "    while temp>0:\n",
    "        digit = temp%10\n",
    "        sum+=digit**order\n",
    "        temp//=10\n",
    "    if n == sum:\n",
    "        print(n,end=\",\")"
   ]
  },
  {
   "cell_type": "markdown",
   "id": "26018524",
   "metadata": {},
   "source": [
    "#fibonacci of nth number\n",
    "n = 2\n",
    "if n==0:\n",
    "    print(\"zero\")\n",
    "else:\n",
    "    return (n-2)+(n-1)\n"
   ]
  },
  {
   "cell_type": "code",
   "execution_count": 35,
   "id": "18bbdd04",
   "metadata": {},
   "outputs": [
    {
     "name": "stdout",
     "output_type": "stream",
     "text": [
      "Fibonacci Series: 0 1 1 2 3 5 8 13 21 34 "
     ]
    }
   ],
   "source": [
    "# Python program to print Fibonacci Series\n",
    "def fibonacciSeries(i):\n",
    "    if i <= 1:\n",
    "        return i\n",
    "    else:\n",
    "        return (fibonacciSeries(i - 1) + fibonacciSeries(i - 2))\n",
    "\n",
    "num=10\n",
    "if num <=0:\n",
    "    print(\"Please enter a Positive Number\")\n",
    "else:\n",
    "    print(\"Fibonacci Series:\", end=\" \")\n",
    "for i in range(num):\n",
    "    print(fibonacciSeries(i), end=\" \")"
   ]
  },
  {
   "cell_type": "markdown",
   "id": "51e1a554",
   "metadata": {},
   "source": [
    "def fibonacciseries(n):\n",
    "    if n<=1:\n",
    "        return n\n",
    "    else:\n",
    "        return(fibonacciseries(n-2)+fibonacciseries(n-1))\n",
    "fibonacciseries(2)"
   ]
  },
  {
   "cell_type": "code",
   "execution_count": 42,
   "id": "64dbf212",
   "metadata": {},
   "outputs": [
    {
     "name": "stdout",
     "output_type": "stream",
     "text": [
      "3628800\n"
     ]
    }
   ],
   "source": [
    "#factorial of a number\n",
    "#fact = fact * i\n",
    "num = 10\n",
    "sum = 1\n",
    "for i in range(1,num+1):\n",
    "    \n",
    "    sum = sum*i\n",
    "print(sum)"
   ]
  },
  {
   "cell_type": "markdown",
   "id": "c653b572",
   "metadata": {},
   "source": [
    "num = 10\n",
    "fact = 1\n",
    "\n",
    "# Factorial of negative number doesn't exist\n",
    "\n",
    "if num < 0:\n",
    "    print(\"Not Possible\")\n",
    "else:\n",
    "    for i in range(1, num+1):\n",
    "        fact = fact * i\n",
    "\n",
    "print(\"Factorial of\", num, \"is\", fact)"
   ]
  },
  {
   "cell_type": "code",
   "execution_count": 44,
   "id": "2b9bca52",
   "metadata": {},
   "outputs": [
    {
     "name": "stdout",
     "output_type": "stream",
     "text": [
      "8\n"
     ]
    }
   ],
   "source": [
    "#power of number\n",
    "digit,power = 2,3\n",
    "total = pow(digit,power)\n",
    "print(total)"
   ]
  },
  {
   "cell_type": "code",
   "execution_count": 46,
   "id": "cd3ff57d",
   "metadata": {},
   "outputs": [
    {
     "name": "stdout",
     "output_type": "stream",
     "text": [
      "1 2 3 4 5 6 7 8 9 10 11 12 13 14 15 16 17 18 19 20 21 22 23 24 25 26 27 28 29 30 31 32 33 34 35 36 37 38 39 40 41 42 43 44 45 46 47 48 49 50 51 52 53 54 55 56 57 58 59 60 61 62 63 64 65 66 67 68 69 70 71 72 73 74 75 76 77 78 79 80 81 82 83 84 85 86 87 88 89 90 91 92 93 94 95 96 97 98 99 100 "
     ]
    }
   ],
   "source": [
    "#factors of a number\n",
    "def divisors(n):\n",
    "    i = 1\n",
    "    while i<=n:\n",
    "        if(n%2==0):\n",
    "            print(i,end=\" \")\n",
    "        i = i+1\n",
    "divisors(100)"
   ]
  },
  {
   "cell_type": "markdown",
   "id": "8cdcf57f",
   "metadata": {},
   "source": [
    "while i <= n :\n",
    "        if (n % i==0) :\n",
    "            print (i,end=\" \")\n",
    "        i = i + 1\n",
    "         \n",
    "# Driver method\n",
    "print (\"The divisors of 100 are: \")\n",
    "printDivisors(100)"
   ]
  },
  {
   "cell_type": "code",
   "execution_count": 50,
   "id": "85130c7f",
   "metadata": {},
   "outputs": [
    {
     "name": "stdout",
     "output_type": "stream",
     "text": [
      "strog number\n"
     ]
    }
   ],
   "source": [
    "#perfect number\n",
    "n = 28\n",
    "sum = 0\n",
    "for i in range(1,n):\n",
    "    if n%i==0:\n",
    "        sum = sum +i\n",
    "if sum==n:\n",
    "    print(\"perfect number\")\n",
    "else:\n",
    "    print(\"Not strong\")"
   ]
  },
  {
   "cell_type": "code",
   "execution_count": 55,
   "id": "8f1fe54b",
   "metadata": {},
   "outputs": [
    {
     "ename": "TypeError",
     "evalue": "'int' object is not callable",
     "output_type": "error",
     "traceback": [
      "\u001b[0;31m---------------------------------------------------------------------------\u001b[0m",
      "\u001b[0;31mTypeError\u001b[0m                                 Traceback (most recent call last)",
      "Cell \u001b[0;32mIn[55], line 10\u001b[0m\n\u001b[1;32m      8\u001b[0m     l\u001b[38;5;241m.\u001b[39mappend(i)\n\u001b[1;32m      9\u001b[0m     n\u001b[38;5;241m/\u001b[39m\u001b[38;5;241m/\u001b[39m\u001b[38;5;241m=\u001b[39m\u001b[38;5;241m10\u001b[39m\n\u001b[0;32m---> 10\u001b[0m sum1 \u001b[38;5;241m=\u001b[39m \u001b[38;5;28msum\u001b[39m(l)\n\u001b[1;32m     11\u001b[0m \u001b[38;5;28;01mif\u001b[39;00m p\u001b[38;5;241m%\u001b[39msum1 \u001b[38;5;241m==\u001b[39m \u001b[38;5;241m0\u001b[39m:\n\u001b[1;32m     12\u001b[0m     \u001b[38;5;28mprint\u001b[39m(\u001b[38;5;124m\"\u001b[39m\u001b[38;5;124mHarshad Number\u001b[39m\u001b[38;5;124m\"\u001b[39m)\n",
      "\u001b[0;31mTypeError\u001b[0m: 'int' object is not callable"
     ]
    }
   ],
   "source": [
    "#harshad number\n",
    "n = 21\n",
    "p = n\n",
    "l = []\n",
    "sum1 = 0\n",
    "while(n>0):\n",
    "    x=n%10\n",
    "    l.append(i)\n",
    "    n//=10\n",
    "sum1 = sum(l)\n",
    "if p%sum1 == 0:\n",
    "    print(\"Harshad Number\")\n",
    "else:\n",
    "    print(\"Not harshad number\")"
   ]
  },
  {
   "cell_type": "markdown",
   "id": "5372fa9f",
   "metadata": {},
   "source": [
    "n = 21\n",
    "p=n\n",
    "l=[]\n",
    "sum1=0\n",
    "while(n>0):\n",
    "    x=n%10\n",
    "    l.append(x)\n",
    "    n=n//10\n",
    "sum1=sum(l)\n",
    "if(p%sum1==0):\n",
    "    print(\"Harshad number\")\n",
    "else:\n",
    "    print(\"Not harshad number\")"
   ]
  },
  {
   "cell_type": "code",
   "execution_count": 57,
   "id": "b20f13f6",
   "metadata": {},
   "outputs": [
    {
     "name": "stdout",
     "output_type": "stream",
     "text": [
      "not abundant\n"
     ]
    }
   ],
   "source": [
    "#abundant number\n",
    "n = 21\n",
    "sum1 = 0\n",
    "for i in range(1,n):\n",
    "    if(n%i==0):\n",
    "        sum = sum + i\n",
    "if sum1>n:\n",
    "    print(abundant)\n",
    "else:\n",
    "    print(\"not abundant\")"
   ]
  },
  {
   "cell_type": "markdown",
   "id": "93b2d94b",
   "metadata": {},
   "source": [
    "141376%1000000"
   ]
  },
  {
   "cell_type": "code",
   "execution_count": 61,
   "id": "6fc89737",
   "metadata": {},
   "outputs": [
    {
     "name": "stdout",
     "output_type": "stream",
     "text": [
      "It is a automorphic number\n"
     ]
    }
   ],
   "source": [
    "#automorphic number\n",
    "number = 376\n",
    "square = pow(number,2)\n",
    "mod = pow(10,len(str(number)))\n",
    "if square%mod == number:\n",
    "    print(\"It is a automorphic number\")\n",
    "else:\n",
    "    print(\"It is not an automorphic number\")"
   ]
  },
  {
   "cell_type": "code",
   "execution_count": null,
   "id": "c841af1f",
   "metadata": {},
   "outputs": [],
   "source": []
  }
 ],
 "metadata": {
  "kernelspec": {
   "display_name": "Python 3 (ipykernel)",
   "language": "python",
   "name": "python3"
  },
  "language_info": {
   "codemirror_mode": {
    "name": "ipython",
    "version": 3
   },
   "file_extension": ".py",
   "mimetype": "text/x-python",
   "name": "python",
   "nbconvert_exporter": "python",
   "pygments_lexer": "ipython3",
   "version": "3.11.5"
  }
 },
 "nbformat": 4,
 "nbformat_minor": 5
}
