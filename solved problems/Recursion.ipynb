{
 "cells": [
  {
   "cell_type": "raw",
   "id": "d97782c5",
   "metadata": {},
   "source": [
    "import sys\n",
    "print(sys.getrecursionlimit())\n",
    "sys.setrecursionlimit(1000)\n",
    "i = 0\n",
    "\n",
    "def greet():\n",
    "    global i\n",
    "    i+=1\n",
    "    \n",
    "    print(\"Hello\",i)\n",
    "    greet()\n",
    "greet()"
   ]
  },
  {
   "cell_type": "code",
   "execution_count": 3,
   "id": "9e73e7f2",
   "metadata": {},
   "outputs": [
    {
     "name": "stdout",
     "output_type": "stream",
     "text": [
      "3000\n"
     ]
    }
   ],
   "source": [
    "import sys\n",
    "print(sys.getrecursionlimit())"
   ]
  },
  {
   "cell_type": "raw",
   "id": "94a81846",
   "metadata": {},
   "source": [
    "#prime or not\n",
    "def prime(x):\n",
    "    if flag == 0:\n",
    "        print(\"Prime\")\n",
    "    else:\n",
    "        for i in range(2,x):\n",
    "            if x%i==0:\n",
    "                flag = 1\n",
    "            else:\n",
    "                flag = 0\n",
    "    prime(x)\n",
    "prime(10) "
   ]
  },
  {
   "cell_type": "code",
   "execution_count": 76,
   "id": "68f81dd7",
   "metadata": {},
   "outputs": [
    {
     "data": {
      "text/plain": [
       "False"
      ]
     },
     "execution_count": 76,
     "metadata": {},
     "output_type": "execute_result"
    }
   ],
   "source": [
    "def primenumber(n,i=2):\n",
    "    \n",
    "   \n",
    "    if n == i:\n",
    "        return True\n",
    "    if n%i == 0:\n",
    "        return False\n",
    "    return primenumber(n,i+1)\n",
    "\n",
    "    if primenumber(n):\n",
    "        print(\"Yes,\", n, \"is Prime\")\n",
    "    else:\n",
    "        print(\"No,\", n, \"is not a Prime\")\n",
    "primenumber(123)"
   ]
  },
  {
   "cell_type": "raw",
   "id": "6fb58be7",
   "metadata": {},
   "source": [
    "# checking whether array supports max function\n",
    "a = [1,2]\n",
    "print(max(a))"
   ]
  },
  {
   "cell_type": "raw",
   "id": "960419b2",
   "metadata": {},
   "source": [
    "#checking whether array can be given as an input\n",
    "def maxarray(x):\n",
    "    print(x)\n",
    "x = [1,2]\n",
    "maxarray(x)"
   ]
  },
  {
   "cell_type": "raw",
   "id": "eadf374b",
   "metadata": {},
   "source": [
    "# largest element of array\n",
    "def maxarray(x):\n",
    "    for i in x:\n",
    "       \n",
    "        if i == max(x):\n",
    "            print(i)\n",
    "    return maxarray(x)\n",
    "        \n",
    "x = [1,2,3,4,5,5]\n",
    "maxarray(x)"
   ]
  },
  {
   "cell_type": "code",
   "execution_count": 60,
   "id": "ec97106f",
   "metadata": {},
   "outputs": [
    {
     "data": {
      "text/plain": [
       "9999"
      ]
     },
     "execution_count": 60,
     "metadata": {},
     "output_type": "execute_result"
    }
   ],
   "source": [
    "# largest element of array\n",
    "def maxarray(x,n):\n",
    "    \n",
    "    for i in x:\n",
    "        if i == max(x):\n",
    "           return i\n",
    "    else:\n",
    "        return False\n",
    "    maxarray(x,n-1)\n",
    "    if maxarray(x):\n",
    "        print(i)\n",
    "    else:\n",
    "        print(\"There is no max\")\n",
    "        \n",
    "x = [1,2,3,4,5,5,9999]\n",
    "n = len(x)\n",
    "maxarray(x,n)"
   ]
  },
  {
   "cell_type": "raw",
   "id": "e5a33d04",
   "metadata": {},
   "source": [
    "def maxelement(x,i=0):\n",
    "    if max(x) == i:\n",
    "        return True\n",
    "    if max(x) !=i:\n",
    "        return False\n",
    "    return maxelement(x,i+1)\n",
    "x = [1,2]\n",
    "maxelement(x)\n",
    "        \n",
    "    "
   ]
  },
  {
   "cell_type": "raw",
   "id": "f87f8260",
   "metadata": {},
   "source": [
    "def maxelement(x,i=0):\n",
    "    for i in x:\n",
    "        if max(x) == x[i]:\n",
    "            return True\n",
    "        if max(x) !=x[i]:\n",
    "            return False\n",
    "    return maxelement(x,i+1)\n",
    "x = [1,2]\n",
    "maxelement(x)\n",
    "        \n",
    "    "
   ]
  },
  {
   "cell_type": "raw",
   "id": "dac149d8",
   "metadata": {},
   "source": [
    "def maxarray(x):\n",
    "    for i in x:\n",
    "        if i == max(x):\n",
    "            print(i)\n",
    "x = [1,2]\n",
    "maxarray(x)"
   ]
  },
  {
   "cell_type": "raw",
   "id": "24b05dba",
   "metadata": {},
   "source": [
    "# def maxarray(x,n):\n",
    "    if n ==1:\n",
    "        return False\n",
    "    return maxarray(x,n-1)\n",
    "x = [1,2]\n",
    "n = len(x)\n",
    "maxarray(x,n)"
   ]
  },
  {
   "cell_type": "code",
   "execution_count": 79,
   "id": "266cd3c0",
   "metadata": {},
   "outputs": [
    {
     "data": {
      "text/plain": [
       "120"
      ]
     },
     "execution_count": 79,
     "metadata": {},
     "output_type": "execute_result"
    }
   ],
   "source": [
    "# factorial using recursion\n",
    "def fact(n):\n",
    "    if n == 0:\n",
    "        return 1\n",
    "    return n*fact(n-1)\n",
    "fact(5)"
   ]
  },
  {
   "cell_type": "code",
   "execution_count": 80,
   "id": "0a6c853e",
   "metadata": {},
   "outputs": [
    {
     "name": "stdout",
     "output_type": "stream",
     "text": [
      "5\n"
     ]
    }
   ],
   "source": [
    "def maxelement(x, current_max=None):\n",
    "    # If the list is empty, return the current maximum\n",
    "    if not x:\n",
    "        return current_max\n",
    "    \n",
    "    # If current_max is None (first call), initialize it\n",
    "    if current_max is None:\n",
    "        current_max = x[0]\n",
    "\n",
    "    # Update the current_max if the first element of x is greater\n",
    "    if x[0] > current_max:\n",
    "        current_max = x[0]\n",
    "\n",
    "    # Recursively call maxelement on the rest of the list\n",
    "    return maxelement(x[1:], current_max)\n",
    "\n",
    "x = [1, 2, 3, 4, 5]\n",
    "print(maxelement(x))  # Output will be 5\n"
   ]
  },
  {
   "cell_type": "code",
   "execution_count": null,
   "id": "a443e402",
   "metadata": {},
   "outputs": [],
   "source": []
  }
 ],
 "metadata": {
  "kernelspec": {
   "display_name": "Python 3 (ipykernel)",
   "language": "python",
   "name": "python3"
  },
  "language_info": {
   "codemirror_mode": {
    "name": "ipython",
    "version": 3
   },
   "file_extension": ".py",
   "mimetype": "text/x-python",
   "name": "python",
   "nbconvert_exporter": "python",
   "pygments_lexer": "ipython3",
   "version": "3.11.5"
  }
 },
 "nbformat": 4,
 "nbformat_minor": 5
}
