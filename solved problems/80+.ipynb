{
 "cells": [
  {
   "cell_type": "code",
   "execution_count": 1,
   "id": "411c4e3d",
   "metadata": {},
   "outputs": [
    {
     "name": "stdout",
     "output_type": "stream",
     "text": [
      "3\n"
     ]
    }
   ],
   "source": [
    "#count vowels\n",
    "string  = \"this is me\"\n",
    "count = 0\n",
    "for i in string:\n",
    "    if i.lower() in 'aeiou':\n",
    "        count +=1\n",
    "print(count)"
   ]
  },
  {
   "cell_type": "code",
   "execution_count": 16,
   "id": "c1248080",
   "metadata": {},
   "outputs": [
    {
     "name": "stdout",
     "output_type": "stream",
     "text": [
      "Not prime\n"
     ]
    }
   ],
   "source": [
    "#prime or not\n",
    "n = 6\n",
    "flag = 0\n",
    "for i in range(2,n):\n",
    "    if n%i == 0:\n",
    "        flag = 1\n",
    "if flag == 1:\n",
    "    print(\"Not prime\")\n",
    "else:\n",
    "    print(\"Prime\")"
   ]
  },
  {
   "cell_type": "markdown",
   "id": "7e6984a1",
   "metadata": {},
   "source": [
    "import math\n",
    "number = 4\n",
    "print(math.sqrt(number))"
   ]
  },
  {
   "cell_type": "code",
   "execution_count": 25,
   "id": "5641a570",
   "metadata": {},
   "outputs": [
    {
     "data": {
      "text/plain": [
       "7"
      ]
     },
     "execution_count": 25,
     "metadata": {},
     "output_type": "execute_result"
    }
   ],
   "source": [
    "#fibonacci of the nth term\n",
    "def fibonacci(num):\n",
    "\n",
    "    if num<2:\n",
    "        print(num)\n",
    "    else:\n",
    "        return (num-1)+(num-2)\n",
    "fibonacci(5)"
   ]
  },
  {
   "cell_type": "code",
   "execution_count": 31,
   "id": "b7cb0e05",
   "metadata": {},
   "outputs": [
    {
     "name": "stdout",
     "output_type": "stream",
     "text": [
      "Enter a number10\n",
      "0 1 1 2 3 5 8 13 21 34 "
     ]
    }
   ],
   "source": [
    "#fibonacci upto the nth term \n",
    "def fibonacciSeries(i):\n",
    "    if i <= 1:\n",
    "        return i\n",
    "    else:\n",
    "        return (fibonacciSeries(i - 1) + fibonacciSeries(i - 2))\n",
    "num = int(input(\"Enter a number\"))\n",
    "if num<0:\n",
    "    print(\"Enter correct input\")\n",
    "else:\n",
    "    for i in range(num):\n",
    "        print(fibonacciSeries(i), end=\" \")"
   ]
  },
  {
   "cell_type": "code",
   "execution_count": 34,
   "id": "32519315",
   "metadata": {},
   "outputs": [
    {
     "name": "stdout",
     "output_type": "stream",
     "text": [
      "2\n",
      "4\n",
      "6\n",
      "8\n",
      "10\n",
      "12\n",
      "14\n",
      "16\n",
      "18\n",
      "20\n"
     ]
    }
   ],
   "source": [
    "#multiplication table\n",
    "num = 2\n",
    "for i in range(1,11):\n",
    "    print(num*i)\n",
    "    i+=1\n",
    "\n"
   ]
  },
  {
   "cell_type": "code",
   "execution_count": 43,
   "id": "9d0d9276",
   "metadata": {},
   "outputs": [
    {
     "name": "stdout",
     "output_type": "stream",
     "text": [
      "6\n"
     ]
    }
   ],
   "source": [
    "#factorial\n",
    "num = 3\n",
    "factorial = 1\n",
    "for i in range(1,num+1):\n",
    "    factorial*=i\n",
    "print(factorial)"
   ]
  },
  {
   "cell_type": "code",
   "execution_count": 5,
   "id": "d57c07e5",
   "metadata": {},
   "outputs": [
    {
     "name": "stdout",
     "output_type": "stream",
     "text": [
      "nOT\n"
     ]
    }
   ],
   "source": [
    "#Armstrong number or not\n",
    "num = 141\n",
    "original = num\n",
    "num_digits = len(str(original))\n",
    "sum = 0\n",
    "while num>0:\n",
    "    digit = num%10\n",
    "    sum += digit ** num_digits\n",
    "    num//=10\n",
    "if sum == original:\n",
    "    print(\"Armstrong\")\n",
    "else:\n",
    "    print(\"nOT\")"
   ]
  },
  {
   "cell_type": "code",
   "execution_count": 7,
   "id": "edf7d3f4",
   "metadata": {},
   "outputs": [
    {
     "name": "stdout",
     "output_type": "stream",
     "text": [
      "2\n"
     ]
    }
   ],
   "source": [
    "#GCD\n",
    "import math\n",
    "num1 = 2\n",
    "num2 = 4\n",
    "gcd = math.gcd(num1,num2)\n",
    "print(gcd)"
   ]
  },
  {
   "cell_type": "code",
   "execution_count": 8,
   "id": "57d6ef49",
   "metadata": {},
   "outputs": [
    {
     "name": "stdout",
     "output_type": "stream",
     "text": [
      "4\n"
     ]
    }
   ],
   "source": [
    "#LCM\n",
    "import math\n",
    "num1 = 2\n",
    "num2 = 4\n",
    "gcd = math.lcm(num1,num2)\n",
    "print(gcd)"
   ]
  },
  {
   "cell_type": "code",
   "execution_count": 19,
   "id": "d0edd2e6",
   "metadata": {},
   "outputs": [
    {
     "name": "stdout",
     "output_type": "stream",
     "text": [
      "<class 'str'>\n",
      "21\n",
      "<class 'str'>\n",
      "21\n",
      "<class 'int'>\n"
     ]
    }
   ],
   "source": [
    "#reverse a number\n",
    "num = 12\n",
    "num2 = str(num)\n",
    "print(type(num2))\n",
    "num3 = num2[::-1]\n",
    "print(num3)\n",
    "print(type(num3))\n",
    "num4 = int(num3)\n",
    "print(num4)\n",
    "print(type(num4))"
   ]
  },
  {
   "cell_type": "code",
   "execution_count": 26,
   "id": "30ffae1e",
   "metadata": {},
   "outputs": [
    {
     "name": "stdout",
     "output_type": "stream",
     "text": [
      "enter a number6\n",
      "*\n",
      "**\n",
      "***\n",
      "****\n",
      "*****\n",
      "******\n"
     ]
    }
   ],
   "source": [
    "#take rows and print a pattern \n",
    "rows = int(input(\"enter a number\"))\n",
    "# columns = int(input(\"enter a number\"))\n",
    "for i in range(1,rows+1):\n",
    "    print(\"*\"*i)"
   ]
  },
  {
   "cell_type": "markdown",
   "id": "7cece3c8",
   "metadata": {},
   "source": [
    "#take rows and print a pattern \n",
    "rows = int(input(\"enter a number\"))\n",
    "columns = int(input(\"enter a number\"))\n",
    "for i in range(1,rows+1):\n",
    "    for j in range(1,columns+1):\n",
    "    \n",
    "        print(\"*\"*i*j)"
   ]
  },
  {
   "cell_type": "code",
   "execution_count": 32,
   "id": "8a55d560",
   "metadata": {},
   "outputs": [
    {
     "name": "stdout",
     "output_type": "stream",
     "text": [
      "28.274333882308138\n"
     ]
    }
   ],
   "source": [
    "#area of circle\n",
    "from math import pi\n",
    "r = 3\n",
    "area = pi*r*r\n",
    "print(area)"
   ]
  },
  {
   "cell_type": "code",
   "execution_count": 55,
   "id": "80084ef2",
   "metadata": {},
   "outputs": [
    {
     "name": "stdout",
     "output_type": "stream",
     "text": [
      "nitin\n",
      "dict_keys(['key1', 'key2'])\n",
      "dict_values(['nitin', 'n'])\n",
      "{'key1': 'nitin', 'key2': 'n', 'key3': 90}\n",
      "{'key1': 'nitin', 'key2': 'n'}\n"
     ]
    }
   ],
   "source": [
    "b = {\"key1\":\"nitin\",\"key2\":\"n\"}\n",
    "print(b[\"key1\"])\n",
    "print(b.keys())\n",
    "print(b.values())\n",
    "b[\"key3\"] = 90\n",
    "print(b)\n",
    "del b[\"key3\"]\n",
    "print(b)\n",
    "def check_key(dictionary, key):\n",
    "return key in dictionary\n"
   ]
  },
  {
   "cell_type": "code",
   "execution_count": 60,
   "id": "764f3389",
   "metadata": {},
   "outputs": [
    {
     "data": {
      "text/plain": [
       "True"
      ]
     },
     "execution_count": 60,
     "metadata": {},
     "output_type": "execute_result"
    }
   ],
   "source": [
    "def check_key(dictionary, key):\n",
    "    return key in dictionary\n",
    "check_key(dictionary = {\"key1\":\"nitin\",\"key2\":\"n\",\"key3\":20},key = \"key3\")"
   ]
  },
  {
   "cell_type": "code",
   "execution_count": 63,
   "id": "4e4845a9",
   "metadata": {},
   "outputs": [],
   "source": [
    "def iterate_dictionary(dictionary ={\"key1\":\"nitin\",\"key2\":\"n\"}):\n",
    "    for key, value in dictionary.items(): \n",
    "        print(key, \":\", value)"
   ]
  },
  {
   "cell_type": "code",
   "execution_count": 67,
   "id": "ae03a933",
   "metadata": {},
   "outputs": [],
   "source": [
    "def clear_dictionary(dictionary ={\"key1\":\"nitin\",\"key2\":\"n\"} ):\n",
    "    dictionary.clear() \n",
    "    return dictionary"
   ]
  },
  {
   "cell_type": "code",
   "execution_count": 68,
   "id": "f0aeae75",
   "metadata": {},
   "outputs": [
    {
     "name": "stdout",
     "output_type": "stream",
     "text": [
      "Merged dictionary using update(): {'name': 'Alice', 'age': 30, 'city': 'New York'}\n"
     ]
    }
   ],
   "source": [
    "# Create two dictionaries\n",
    "dict1 = {\"name\": \"Alice\", \"age\": 25}\n",
    "dict2 = {\"city\": \"New York\", \"age\": 30}\n",
    "\n",
    "# Merge dict2 into dict1 using update()\n",
    "dict1.update(dict2)\n",
    "\n",
    "print(\"Merged dictionary using update():\", dict1)\n"
   ]
  },
  {
   "cell_type": "code",
   "execution_count": null,
   "id": "ecf82397",
   "metadata": {},
   "outputs": [],
   "source": []
  }
 ],
 "metadata": {
  "kernelspec": {
   "display_name": "Python 3 (ipykernel)",
   "language": "python",
   "name": "python3"
  },
  "language_info": {
   "codemirror_mode": {
    "name": "ipython",
    "version": 3
   },
   "file_extension": ".py",
   "mimetype": "text/x-python",
   "name": "python",
   "nbconvert_exporter": "python",
   "pygments_lexer": "ipython3",
   "version": "3.11.5"
  }
 },
 "nbformat": 4,
 "nbformat_minor": 5
}
